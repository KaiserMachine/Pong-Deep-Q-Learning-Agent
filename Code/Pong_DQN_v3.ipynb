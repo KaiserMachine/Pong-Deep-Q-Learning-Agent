{
  "cells": [
    {
      "cell_type": "markdown",
      "source": [
        "William and Omar"
      ],
      "metadata": {
        "id": "eqL46jRoVhuR"
      }
    },
    {
      "cell_type": "code",
      "execution_count": 14,
      "metadata": {
        "id": "-cdM8vrPL8ua"
      },
      "outputs": [],
      "source": [
        "# For tips on running notebooks in Google Colab, see\n",
        "# https://pytorch.org/tutorials/beginner/colab\n",
        "%matplotlib inline"
      ]
    },
    {
      "cell_type": "markdown",
      "metadata": {
        "id": "br1BNo81L8uc"
      },
      "source": [
        "\n",
        "# Lab: Applying Reinforcement Learning (DQN) \n",
        "**Author**: [Adam Paszke](https://github.com/apaszke)\n",
        "            [Mark Towers](https://github.com/pseudo-rnd-thoughts)\n",
        "            Jingsai Liang\n",
        "\n",
        "\n",
        "This lab is to use PyTorch to train a Deep Q Learning (DQN) agent for solving Pong game. \n",
        "\n",
        "Please visit the step one of your Pong project and answer following questions. "
      ]
    },
    {
      "cell_type": "markdown",
      "metadata": {
        "id": "VNoznlXQqqkt"
      },
      "source": [
        "Question 1: What observations can the agent collect at each step of the game? The position of the paddle, the position of the ball, and the velocity of the ball"
      ]
    },
    {
      "cell_type": "markdown",
      "metadata": {
        "id": "b9XqWW5NqtMX"
      },
      "source": [
        "Question 2: What actions can the agent take after receving the observation? Paddle going up or down"
      ]
    },
    {
      "cell_type": "markdown",
      "metadata": {
        "id": "28DOaf1KrBT3"
      },
      "source": [
        "Question 3: What rewards do the agent receive during the game? - absolute value of paddle distance plus 100, +10000 for a win, -10000 for a loss"
      ]
    },
    {
      "cell_type": "markdown",
      "metadata": {
        "id": "c16tIE4-SJrg"
      },
      "source": [
        "Question 4: When will the game terminate or truncate? Every 10 games"
      ]
    },
    {
      "cell_type": "markdown",
      "metadata": {
        "id": "-eRxIzv_L8ue"
      },
      "source": [
        "We'll also use the following from PyTorch:\n",
        "\n",
        "-  neural networks (``torch.nn``)\n",
        "-  optimization (``torch.optim``)\n",
        "-  automatic differentiation (``torch.autograd``)\n"
      ]
    },
    {
      "cell_type": "markdown",
      "metadata": {
        "id": "xRUlgEFW-xFO"
      },
      "source": [
        "We'll **upload PongAIvAI_PlayInBackground_DQN.py and chaser_ai.py** to the folder on the left side. Please remember that any modification you made on this file on colab is temporary. You need to save a copy of your modified file. So, I suggest you make your **change on PongAIvAI_PlayInBackground_DQN on your local laptop** and only upload it to here. "
      ]
    },
    {
      "cell_type": "markdown",
      "metadata": {
        "id": "LMuArw5hGntS"
      },
      "source": [
        "**Before running any codel below, please modify the reward strategy in PongAIvAI_PlayInBackground_DQN.py.**\n",
        "\n",
        "\n",
        "**If you do modify the reward code, you need to restart the running time and import PongAIvAI_PlayInBackground_DQN again.** Otherwise, you are still using the previous reward code. \n",
        "\n",
        "You may also change other parts of the code in the class Pong as well. For example, **you may change the state** to pass along other data and more history data of the paddle and the ball to the network. \n"
      ]
    },
    {
      "cell_type": "markdown",
      "source": [
        "## Environment\n",
        "\n",
        "### Reward\n",
        "\n",
        "Do not use a complex reward strategy. You should consider\n",
        "\n",
        "- Huge positve reward like 10,000 if winning a game\n",
        "- Huge negative reward like -10,000 if losing a game\n",
        "- Penalty based on the vertical difference between the ball and your paddle.\n",
        "\n",
        "### State \n",
        "\n",
        "You can replace the raw state by your own processed state like\n",
        "\n",
        "- the vertical middle position of your paddle\n",
        "- the vertical middle position of the enemy paddle\n",
        "- the current x and y positions of the ball\n",
        "- the previous x and y positions of the ball (history information)\n",
        "- the hight and width of the table"
      ],
      "metadata": {
        "id": "DdXcUNbMeW3K"
      }
    },
    {
      "cell_type": "markdown",
      "source": [
        "## Parameters  \n",
        "\n",
        "### Nnumber of hidden layer \n",
        "  - Keep only one hidden layer\n",
        "\n",
        "### Number of neurons\n",
        "\n",
        "The number of neurons depends on the difficulty level of the agent. In general, you should use more neurons like 64, 128 or even more neurons if the enemy AI is a strong one. And, you only need fewer neurons like 32 if the enemy AI is a dummy one. \n",
        "\n",
        "Your model is easy to get overfitting if you use more neurons than you should use. And your model will not perform well if you use less neurons than you shoud use either. \n",
        "\n",
        "### tau of target network \n",
        "tau is a value to control the stability of the target network. If the orange curve in your training is not stable, you may reduce tau to a very tiny number. \n",
        "\n",
        "### Learning rate\n",
        "Use a very tiny learning rate. \n",
        "\n",
        "### eps decay \n",
        "Slow down the eps decay by increasing EPS_DECAY.  \n",
        "\n",
        "### Memory size \n",
        "\n",
        "Since the state space and action space is small, we need to have a large memory size to hold both good and bad sample. "
      ],
      "metadata": {
        "id": "3Gh7E4CScSDe"
      }
    },
    {
      "cell_type": "markdown",
      "source": [
        "## Training \n",
        "\n",
        "### Catastrophic drop \n",
        "\n",
        "This means your network is not stable at all. You may try to \n",
        "\n",
        "- decrease tau\n",
        "- decrease learning rate\n",
        "- increase memory size\n",
        "- decrease eps_decay\n",
        "- increase number of neurons\n",
        "- increase the batch size \n",
        "\n",
        "![](https://cs.westminstercollege.edu/~jingsai/courses/CMPT301/project/Pong_step2/images/catastrophic_drop_model_16.png)\n",
        "\n",
        "### Peak and stop improving \n",
        "\n",
        "This means your network achieves the best performance on current setting. You may try to \n",
        "\n",
        "1. resume the training right before the peak value using one checkpoint\n",
        "\n",
        "2. stop training loop when the orange curve climbing up to the peak value. \n",
        "\n",
        "3. save the best model to google drive\n",
        "\n",
        "4. test the best model. \n",
        "\n",
        "![](https://cs.westminstercollege.edu/~jingsai/courses/CMPT301/project/Pong_step2/images/model19-1051.png)\n",
        "\n",
        "\n",
        "\n",
        "\n",
        "\n"
      ],
      "metadata": {
        "id": "7ZQgRyxxeilT"
      }
    },
    {
      "cell_type": "markdown",
      "source": [
        "## Expectation \n",
        "\n",
        "### Always up agent\n",
        "\n",
        "- win 100% of time. \n",
        "\n",
        "![](https://cs.westminstercollege.edu/~jingsai/courses/CMPT301/project/Pong_step2/images/model10-dummy.png)\n",
        "\n",
        "### chaser ai agent\n",
        "\n",
        "- win over 70% of time.\n",
        "\n",
        "![](https://cs.westminstercollege.edu/~jingsai/courses/CMPT301/project/Pong_step2/images/model19-351-bin.png)"
      ],
      "metadata": {
        "id": "OhZ9BnTwig3y"
      }
    },
    {
      "cell_type": "code",
      "execution_count": 15,
      "metadata": {
        "id": "Cn72WCaHkY94"
      },
      "outputs": [],
      "source": [
        "from PongAIvAI_PlayInBackground_DQN_v3 import Pong"
      ]
    },
    {
      "cell_type": "code",
      "execution_count": 16,
      "metadata": {
        "id": "RuoVd3_zL8ue"
      },
      "outputs": [],
      "source": [
        "# import gymnasium as gym\n",
        "import math\n",
        "import random\n",
        "import matplotlib\n",
        "import matplotlib.pyplot as plt\n",
        "from collections import namedtuple, deque\n",
        "from itertools import count\n",
        "import numpy as np\n",
        "\n",
        "import torch\n",
        "import torch.nn as nn\n",
        "import torch.optim as optim\n",
        "import torch.nn.functional as F\n",
        "\n",
        "env = Pong() \n",
        "\n",
        "# set up matplotlib\n",
        "is_ipython = 'inline' in matplotlib.get_backend()\n",
        "if is_ipython:\n",
        "    from IPython import display\n",
        "\n",
        "plt.ion()\n",
        "\n",
        "# if gpu is to be used\n",
        "device = torch.device(\"cuda\" if torch.cuda.is_available() else \"cpu\")"
      ]
    },
    {
      "cell_type": "markdown",
      "metadata": {
        "id": "x5IcNUB7L8ue"
      },
      "source": [
        "## Replay Memory\n",
        "\n",
        "We'll be using experience replay memory for training our DQN. It stores\n",
        "the transitions that the agent observes, allowing us to reuse this data\n",
        "later. By sampling from it randomly, the transitions that build up a\n",
        "batch are decorrelated. It has been shown that this greatly stabilizes\n",
        "and improves the DQN training procedure.\n",
        "\n",
        "For this, we're going to need two classses:\n",
        "\n",
        "-  ``Transition`` - a named tuple representing a single transition in\n",
        "   our environment. It essentially maps (state, action) pairs\n",
        "   to their (next_state, reward) result, with the state being the\n",
        "   screen difference image as described later on.\n",
        "-  ``ReplayMemory`` - a cyclic buffer of bounded size that holds the\n",
        "   transitions observed recently. It also implements a ``.sample()``\n",
        "   method for selecting a random batch of transitions for training.\n",
        "\n",
        "\n"
      ]
    },
    {
      "cell_type": "code",
      "execution_count": 17,
      "metadata": {
        "id": "zRix5fNfL8uf"
      },
      "outputs": [],
      "source": [
        "Transition = namedtuple('Transition',\n",
        "                        ('state', 'action', 'next_state', 'reward'))\n",
        "\n",
        "\n",
        "class ReplayMemory(object):\n",
        "\n",
        "    def __init__(self, capacity):\n",
        "        self.memory = deque([], maxlen=capacity)\n",
        "\n",
        "    def push(self, *args):\n",
        "        \"\"\"Save a transition\"\"\"\n",
        "        self.memory.append(Transition(*args))\n",
        "\n",
        "    def sample(self, batch_size):\n",
        "        return random.sample(self.memory, batch_size)\n",
        "\n",
        "    def __len__(self):\n",
        "        return len(self.memory)"
      ]
    },
    {
      "cell_type": "markdown",
      "metadata": {
        "id": "kbCrjNmHL8uf"
      },
      "source": [
        "## DQN\n",
        "\n",
        "Now, let's define our model. \n",
        "\n",
        "You need to define and change the structure of your network \n",
        "for training a better result such as:\n",
        "  \n",
        "- number of layers\n",
        "- number of neurons on layers\n",
        "- activation functions\n",
        "\n"
      ]
    },
    {
      "cell_type": "code",
      "execution_count": 18,
      "metadata": {
        "id": "-mvmbe5_L8ug"
      },
      "outputs": [],
      "source": [
        "# It requires a flatten layer since the input is a stacked of 4 states. \n",
        "\n",
        "class DQN(nn.Module):\n",
        "\n",
        "    def __init__(self, n_observations, n_actions):\n",
        "        super(DQN, self).__init__()\n",
        "        self.flatten = nn.Flatten()\n",
        "        self.layer1 = nn.Linear(n_observations * 4, 128)\n",
        "        self.layer2 = nn.Linear(128, 128)\n",
        "        self.layer3 = nn.Linear(128, n_actions)\n",
        "\n",
        "    # Called with either one element to determine next action, or a batch\n",
        "    # during optimization. Returns tensor([[left0exp,right0exp]...]).\n",
        "    def forward(self, x):\n",
        "        x = self.flatten(x)\n",
        "        x = F.relu(self.layer1(x))\n",
        "        x = F.relu(self.layer2(x))\n",
        "        return self.layer3(x)"
      ]
    },
    {
      "cell_type": "markdown",
      "metadata": {
        "id": "5b-z0TCKL8ug"
      },
      "source": [
        "## Training\n",
        "\n",
        "### Hyperparameters \n",
        "\n"
      ]
    },
    {
      "cell_type": "code",
      "execution_count": 19,
      "metadata": {
        "id": "lyrttx0DgWte"
      },
      "outputs": [],
      "source": [
        "\"\"\"You may change these hyperparameters to tune your training. \"\"\"\n",
        "\"\"\"You need to initialize these hyperparameters to tune your training. \n",
        "Replace None by numbers. \n",
        "\"\"\"\n",
        "\n",
        "# Total number of episodes for training\n",
        "num_episodes = 78\n",
        "# which episode to resume training \n",
        "start_episode = 76 \n",
        "# BATCH_SIZE is the number of transitions sampled from the replay buffer\n",
        "BATCH_SIZE = 128\n",
        "# GAMMA is the discount factor as mentioned in the previous section\n",
        "GAMMA = 0.99\n",
        "# LR is the learning rate of the AdamW optimizer\n",
        "LR = 1e-4 / 2\n",
        "# Size of the replay memory \n",
        "MEMORY_SIZE = 10000\n",
        "# TAU is the update rate of the target network\n",
        "TAU = 0.0005\n",
        "\n",
        "# EPS_START is the starting value of epsilon\n",
        "# EPS_END is the final value of epsilon\n",
        "# EPS_DECAY controls the rate of exponential decay of epsilon, higher means a slower decay\n",
        "EPS_START = 0.9\n",
        "EPS_END = 0.05\n",
        "EPS_DECAY = 1000"
      ]
    },
    {
      "cell_type": "markdown",
      "metadata": {
        "id": "38i3EWNJiwpf"
      },
      "source": [
        "### Utilities\n",
        "This cell instantiates our model and its optimizer, and defines some\n",
        "utilities.\n"
      ]
    },
    {
      "cell_type": "code",
      "execution_count": 20,
      "metadata": {
        "id": "Al-95s5JL8uh"
      },
      "outputs": [],
      "source": [
        "# Get number of actions from gym action space\n",
        "n_actions = 2 # two actions\n",
        "# Get the number of state observations\n",
        "state, info = env.reset()\n",
        "n_observations = len(state)\n",
        "\n",
        "policy_net = DQN(n_observations, n_actions).to(device)\n",
        "target_net = DQN(n_observations, n_actions).to(device)\n",
        "target_net.load_state_dict(policy_net.state_dict())\n",
        "\n",
        "optimizer = optim.AdamW(policy_net.parameters(), lr=LR, amsgrad=True)\n",
        "memory = ReplayMemory(MEMORY_SIZE)\n",
        "\n",
        "steps_done = 0\n",
        "def select_action(state):\n",
        "    global steps_done\n",
        "    sample = random.random()\n",
        "    eps_threshold = EPS_END + (EPS_START - EPS_END) * \\\n",
        "        math.exp(-1. * steps_done / EPS_DECAY)\n",
        "    steps_done += 1\n",
        "    if sample > eps_threshold:\n",
        "        with torch.no_grad():\n",
        "            # t.max(1) will return the largest column value of each row.\n",
        "            # second column on max result is index of where max element was\n",
        "            # found, so we pick action with the larger expected reward.\n",
        "            return policy_net(state).max(1)[1].view(1, 1)\n",
        "    else:\n",
        "        # return torch.tensor([[env.action_space.sample()]], device=device, dtype=torch.long)\n",
        "         return torch.tensor([[np.random.randint(2)]], device=device, dtype=torch.long)\n",
        "\n",
        "episode_scores = []\n",
        "def plot_scores(show_result=False):\n",
        "    plt.figure(1)\n",
        "    scores_t = torch.tensor(episode_scores, dtype=torch.float)\n",
        "    if show_result:\n",
        "        plt.title('Result')\n",
        "    else:\n",
        "        plt.clf()\n",
        "        plt.title('Training...')\n",
        "    plt.xlabel('Episode')\n",
        "    plt.ylabel('Scores')\n",
        "    plt.plot(scores_t.numpy())\n",
        "    # Take 50 episode averages and plot them too\n",
        "    if len(scores_t) >= 50:\n",
        "        means = scores_t.unfold(0, 50, 1).mean(1).view(-1)\n",
        "        means = torch.cat((torch.zeros(49), means))\n",
        "        plt.plot(means.numpy())\n",
        "\n",
        "    plt.pause(0.001)  # pause a bit so that plots are updated\n",
        "    if is_ipython:\n",
        "        if not show_result:\n",
        "            display.display(plt.gcf())\n",
        "            display.clear_output(wait=True)\n",
        "        else:\n",
        "            display.display(plt.gcf())\n",
        "\n",
        "# https://medium.com/analytics-vidhya/saving-and-loading-your-model-to-resume-training-in-pytorch-cb687352fa61\n",
        "# https://pytorch.org/tutorials/recipes/recipes/saving_and_loading_a_general_checkpoint.html\n",
        "\n",
        "def save_checkpoint(policy_net_state_dict, target_net_state_dict, optimizer_state_dict, i_episode, steps_done, episode_scores):\n",
        "    PATH = folder_path + model_name + \"_checkpoint_\" + str(i_episode) + \".pth\"\n",
        "    torch.save({\n",
        "            'epoch': i_episode, # to resume from i_episode\n",
        "            'policy_net_state_dict': policy_net_state_dict,\n",
        "            'target_net_state_dict': target_net_state_dict,\n",
        "            'optimizer_state_dict': optimizer_state_dict,\n",
        "            'steps_done': steps_done, # eps \n",
        "            'episode_scores': episode_scores # visualization of training \n",
        "            }, PATH)\n",
        "    \n",
        "def load_checkpoint(policy_net, target_net, optimizer, file_path):\n",
        "    if device.type == \"cuda\":\n",
        "        checkpoint = torch.load(file_path)\n",
        "    else:\n",
        "        checkpoint = torch.load(file_path, map_location=torch.device('cpu') )\n",
        "    policy_net.load_state_dict(checkpoint['policy_net_state_dict'])\n",
        "    target_net.load_state_dict(checkpoint['target_net_state_dict'])\n",
        "    optimizer.load_state_dict(checkpoint['optimizer_state_dict'])\n",
        "    epoch = checkpoint['epoch']\n",
        "    steps_done = checkpoint['steps_done']\n",
        "    episode_scores = checkpoint['episode_scores']\n",
        "\n",
        "    return policy_net, target_net, optimizer, epoch, steps_done, episode_scores\n",
        "\n",
        "  \n",
        "# from https://github.com/deepanshut041/Reinforcement-Learning/tree/master/cgames/01_ping_pong\n",
        "def stack_state(stacked_states, state, is_new):\n",
        "    # is_new: Is the state First\n",
        "    if is_new:\n",
        "        stacked_states = np.stack(arrays=[state, state, state, state])\n",
        "        stacked_states = stacked_states\n",
        "    else:\n",
        "        stacked_states[0] = stacked_states[1]\n",
        "        stacked_states[1] = stacked_states[2]\n",
        "        stacked_states[2] = stacked_states[3]\n",
        "        stacked_states[3] = state\n",
        "    \n",
        "    return stacked_states\n",
        "\n",
        "def stack_states(states, state, is_new):\n",
        "    states = stack_state(states, state, is_new)\n",
        "    return states\n",
        "\n",
        "# test \n",
        "# state = (1,2,3,4)\n",
        "# states = stack_states(None, state, True)\n",
        "# states = stack_states(states, [2,3,4,5], False)\n",
        "# stack_states(states, [0,0,4,5], False)"
      ]
    },
    {
      "cell_type": "markdown",
      "metadata": {
        "id": "tMfDGn2XL8uh"
      },
      "source": [
        "### Optimize_model\n",
        "\n",
        "Finally, the code for training our model.\n"
      ]
    },
    {
      "cell_type": "code",
      "execution_count": 21,
      "metadata": {
        "id": "oMtwP2erL8ui"
      },
      "outputs": [],
      "source": [
        "def optimize_model():\n",
        "    if len(memory) < BATCH_SIZE:\n",
        "        return\n",
        "    transitions = memory.sample(BATCH_SIZE)\n",
        "    # Transpose the batch (see https://stackoverflow.com/a/19343/3343043 for\n",
        "    # detailed explanation). This converts batch-array of Transitions\n",
        "    # to Transition of batch-arrays.\n",
        "    batch = Transition(*zip(*transitions))\n",
        "\n",
        "    # Compute a mask of non-final states and concatenate the batch elements\n",
        "    # (a final state would've been the one after which simulation ended)\n",
        "    non_final_mask = torch.tensor(tuple(map(lambda s: s is not None,\n",
        "                                          batch.next_state)), device=device, dtype=torch.bool)\n",
        "    non_final_next_states = torch.cat([s for s in batch.next_state\n",
        "                                                if s is not None])\n",
        "    \n",
        "    # print(\"here\",batch.state[0])\n",
        "\n",
        "    state_batch = torch.cat(batch.state) # stack the state vertically row by row. the size is 128*4. \n",
        "    action_batch = torch.cat(batch.action)\n",
        "    reward_batch = torch.cat(batch.reward)\n",
        "\n",
        "    # print(state_batch.shape)\n",
        "\n",
        "    # Compute Q(s_t, a) - the model computes Q(s_t), then we select the\n",
        "    # columns of actions taken. These are the actions which would've been taken\n",
        "    # for each batch state according to policy_net\n",
        "    state_action_values = policy_net(state_batch).gather(1, action_batch)\n",
        "\n",
        "    # Compute V(s_{t+1}) for all next states.\n",
        "    # Expected values of actions for non_final_next_states are computed based\n",
        "    # on the \"older\" target_net; selecting their best reward with max(1)[0].\n",
        "    # This is merged based on the mask, such that we'll have either the expected\n",
        "    # state value or 0 in case the state was final.\n",
        "    next_state_values = torch.zeros(BATCH_SIZE, device=device)\n",
        "    with torch.no_grad():\n",
        "        next_state_values[non_final_mask] = target_net(non_final_next_states).max(1)[0]\n",
        "    # Compute the expected Q values\n",
        "    expected_state_action_values = (next_state_values * GAMMA) + reward_batch\n",
        "\n",
        "    # Compute Huber loss\n",
        "    criterion = nn.SmoothL1Loss()\n",
        "    loss = criterion(state_action_values, expected_state_action_values.unsqueeze(1))\n",
        "\n",
        "    # Optimize the model\n",
        "    optimizer.zero_grad()\n",
        "    loss.backward()\n",
        "    # In-place gradient clipping\n",
        "    torch.nn.utils.clip_grad_value_(policy_net.parameters(), 100)\n",
        "    optimizer.step()"
      ]
    },
    {
      "cell_type": "markdown",
      "metadata": {
        "id": "OKmtlbdWL8ui"
      },
      "source": [
        "Below, you can find the main training loop. At the beginning we reset\n",
        "the environment and obtain the initial ``state`` Tensor. Then, we sample\n",
        "an action, execute it, observe the next state and the reward, and optimize our model once. When the episode ends (our model\n",
        "fails), we restart the loop.\n",
        "\n",
        "Training RL agents can be a noisy process, so restarting training\n",
        "can produce better results if convergence is not observed.\n",
        "\n",
        "\n"
      ]
    },
    {
      "cell_type": "markdown",
      "metadata": {
        "id": "ej6NxP2fnugP"
      },
      "source": [
        "### Checkpoints\n"
      ]
    },
    {
      "cell_type": "markdown",
      "metadata": {
        "id": "nM2m98I08eX5"
      },
      "source": [
        "Before training your mode, you need to run the code below to mount your drive to this notebook, since you need to save checkpoints to your goodle drive."
      ]
    },
    {
      "cell_type": "code",
      "execution_count": 22,
      "metadata": {
        "id": "r7ntkB30P2eJ",
        "colab": {
          "base_uri": "https://localhost:8080/"
        },
        "outputId": "f3dac77b-3148-4f00-abbe-c60c7375747e"
      },
      "outputs": [
        {
          "output_type": "stream",
          "name": "stdout",
          "text": [
            "Drive already mounted at /content/drive; to attempt to forcibly remount, call drive.mount(\"/content/drive\", force_remount=True).\n"
          ]
        }
      ],
      "source": [
        "from google.colab import drive\n",
        "drive.mount('/content/drive')\n",
        "\n",
        "# Force to mount again even though the drive has been already mounted.\n",
        "# drive.mount('/content/drive',force_remount=True)\n",
        "\n",
        "# disconnect the mount \n",
        "# drive.flush_and_unmount()"
      ]
    },
    {
      "cell_type": "markdown",
      "metadata": {
        "id": "c-0mNKw65ikx"
      },
      "source": [
        "Parameters to adjust for saving and loading checkpoints."
      ]
    },
    {
      "cell_type": "code",
      "execution_count": 23,
      "metadata": {
        "id": "25T7oUTi5gPh"
      },
      "outputs": [],
      "source": [
        "# The folder in the google drive to save the checkpoints\n",
        "folder_path = \"/content/drive/My Drive/CMPT 301/Pong/\"\n",
        "# The name of your model\n",
        "model_name = \"chaser_v1\"\n",
        "# Frequency to save the checkpoints.\n",
        "freq = 25 # Save one checkpoint every freq episodes. "
      ]
    },
    {
      "cell_type": "markdown",
      "metadata": {
        "id": "HJzk2zGC8gCG"
      },
      "source": [
        "**This is the code to load a checkpoint and resume the training.**\n",
        "\n",
        "**Do not run the code below unless you want to load previous checkpoint.** Otherwise, the model loaded will overlap the current model.\n",
        "\n",
        "**You need to change episode_to_load and model name, and may restart the running time before load a checkpoint.**"
      ]
    },
    {
      "cell_type": "code",
      "execution_count": 24,
      "metadata": {
        "id": "KjmykvAanDw3"
      },
      "outputs": [],
      "source": [
        "\"\"\"\n",
        "Uncomment the code below to load a check point and resume the training. \n",
        "\"\"\"\n",
        "\n",
        "episode_to_load = '76' # adjust this number to the number of the checkpoint you want to resume\n",
        "\n",
        "file_path = folder_path + model_name + \"_checkpoint_\" + episode_to_load + \".pth\"\n",
        "\n",
        "policy_net, target_net, optimizer, start_episode, steps_done, episode_scores = load_checkpoint(policy_net, target_net, optimizer, file_path)"
      ]
    },
    {
      "cell_type": "markdown",
      "metadata": {
        "id": "UsGBkiG1cXpj"
      },
      "source": [
        "### Training loop"
      ]
    },
    {
      "cell_type": "markdown",
      "metadata": {
        "id": "7bKt10r9vy4a"
      },
      "source": [
        "In one episode, the agent wins the game if it scores 10 at first. \n",
        "\n",
        "In the dynamic picture showing the training results, your agent wins one episode if the value of the curve is above 0.5. Your agent loses one episode otherwise. \n",
        "\n",
        "A more detailed explanation of the score is here:"
      ]
    },
    {
      "cell_type": "code",
      "execution_count": 25,
      "metadata": {
        "id": "C5u1eulUHF3w",
        "colab": {
          "base_uri": "https://localhost:8080/",
          "height": 677
        },
        "outputId": "bcd774ab-656a-4835-e92b-eb6675747319"
      },
      "outputs": [
        {
          "output_type": "execute_result",
          "data": {
            "text/plain": [
              "    Your DQN Agent  Enemy Agent  score\n",
              "0                0           10   0.00\n",
              "1                1           10   0.09\n",
              "2                2           10   0.17\n",
              "3                3           10   0.23\n",
              "4                4           10   0.29\n",
              "5                5           10   0.33\n",
              "6                6           10   0.38\n",
              "7                7           10   0.41\n",
              "8                8           10   0.44\n",
              "9                9           10   0.47\n",
              "10              10            9   0.53\n",
              "11              10            8   0.56\n",
              "12              10            7   0.59\n",
              "13              10            6   0.62\n",
              "14              10            5   0.67\n",
              "15              10            4   0.71\n",
              "16              10            3   0.77\n",
              "17              10            2   0.83\n",
              "18              10            1   0.91\n",
              "19              10            0   1.00"
            ],
            "text/html": [
              "\n",
              "  <div id=\"df-7c194d8d-65e5-4687-a98f-227cc78482e7\">\n",
              "    <div class=\"colab-df-container\">\n",
              "      <div>\n",
              "<style scoped>\n",
              "    .dataframe tbody tr th:only-of-type {\n",
              "        vertical-align: middle;\n",
              "    }\n",
              "\n",
              "    .dataframe tbody tr th {\n",
              "        vertical-align: top;\n",
              "    }\n",
              "\n",
              "    .dataframe thead th {\n",
              "        text-align: right;\n",
              "    }\n",
              "</style>\n",
              "<table border=\"1\" class=\"dataframe\">\n",
              "  <thead>\n",
              "    <tr style=\"text-align: right;\">\n",
              "      <th></th>\n",
              "      <th>Your DQN Agent</th>\n",
              "      <th>Enemy Agent</th>\n",
              "      <th>score</th>\n",
              "    </tr>\n",
              "  </thead>\n",
              "  <tbody>\n",
              "    <tr>\n",
              "      <th>0</th>\n",
              "      <td>0</td>\n",
              "      <td>10</td>\n",
              "      <td>0.00</td>\n",
              "    </tr>\n",
              "    <tr>\n",
              "      <th>1</th>\n",
              "      <td>1</td>\n",
              "      <td>10</td>\n",
              "      <td>0.09</td>\n",
              "    </tr>\n",
              "    <tr>\n",
              "      <th>2</th>\n",
              "      <td>2</td>\n",
              "      <td>10</td>\n",
              "      <td>0.17</td>\n",
              "    </tr>\n",
              "    <tr>\n",
              "      <th>3</th>\n",
              "      <td>3</td>\n",
              "      <td>10</td>\n",
              "      <td>0.23</td>\n",
              "    </tr>\n",
              "    <tr>\n",
              "      <th>4</th>\n",
              "      <td>4</td>\n",
              "      <td>10</td>\n",
              "      <td>0.29</td>\n",
              "    </tr>\n",
              "    <tr>\n",
              "      <th>5</th>\n",
              "      <td>5</td>\n",
              "      <td>10</td>\n",
              "      <td>0.33</td>\n",
              "    </tr>\n",
              "    <tr>\n",
              "      <th>6</th>\n",
              "      <td>6</td>\n",
              "      <td>10</td>\n",
              "      <td>0.38</td>\n",
              "    </tr>\n",
              "    <tr>\n",
              "      <th>7</th>\n",
              "      <td>7</td>\n",
              "      <td>10</td>\n",
              "      <td>0.41</td>\n",
              "    </tr>\n",
              "    <tr>\n",
              "      <th>8</th>\n",
              "      <td>8</td>\n",
              "      <td>10</td>\n",
              "      <td>0.44</td>\n",
              "    </tr>\n",
              "    <tr>\n",
              "      <th>9</th>\n",
              "      <td>9</td>\n",
              "      <td>10</td>\n",
              "      <td>0.47</td>\n",
              "    </tr>\n",
              "    <tr>\n",
              "      <th>10</th>\n",
              "      <td>10</td>\n",
              "      <td>9</td>\n",
              "      <td>0.53</td>\n",
              "    </tr>\n",
              "    <tr>\n",
              "      <th>11</th>\n",
              "      <td>10</td>\n",
              "      <td>8</td>\n",
              "      <td>0.56</td>\n",
              "    </tr>\n",
              "    <tr>\n",
              "      <th>12</th>\n",
              "      <td>10</td>\n",
              "      <td>7</td>\n",
              "      <td>0.59</td>\n",
              "    </tr>\n",
              "    <tr>\n",
              "      <th>13</th>\n",
              "      <td>10</td>\n",
              "      <td>6</td>\n",
              "      <td>0.62</td>\n",
              "    </tr>\n",
              "    <tr>\n",
              "      <th>14</th>\n",
              "      <td>10</td>\n",
              "      <td>5</td>\n",
              "      <td>0.67</td>\n",
              "    </tr>\n",
              "    <tr>\n",
              "      <th>15</th>\n",
              "      <td>10</td>\n",
              "      <td>4</td>\n",
              "      <td>0.71</td>\n",
              "    </tr>\n",
              "    <tr>\n",
              "      <th>16</th>\n",
              "      <td>10</td>\n",
              "      <td>3</td>\n",
              "      <td>0.77</td>\n",
              "    </tr>\n",
              "    <tr>\n",
              "      <th>17</th>\n",
              "      <td>10</td>\n",
              "      <td>2</td>\n",
              "      <td>0.83</td>\n",
              "    </tr>\n",
              "    <tr>\n",
              "      <th>18</th>\n",
              "      <td>10</td>\n",
              "      <td>1</td>\n",
              "      <td>0.91</td>\n",
              "    </tr>\n",
              "    <tr>\n",
              "      <th>19</th>\n",
              "      <td>10</td>\n",
              "      <td>0</td>\n",
              "      <td>1.00</td>\n",
              "    </tr>\n",
              "  </tbody>\n",
              "</table>\n",
              "</div>\n",
              "      <button class=\"colab-df-convert\" onclick=\"convertToInteractive('df-7c194d8d-65e5-4687-a98f-227cc78482e7')\"\n",
              "              title=\"Convert this dataframe to an interactive table.\"\n",
              "              style=\"display:none;\">\n",
              "        \n",
              "  <svg xmlns=\"http://www.w3.org/2000/svg\" height=\"24px\"viewBox=\"0 0 24 24\"\n",
              "       width=\"24px\">\n",
              "    <path d=\"M0 0h24v24H0V0z\" fill=\"none\"/>\n",
              "    <path d=\"M18.56 5.44l.94 2.06.94-2.06 2.06-.94-2.06-.94-.94-2.06-.94 2.06-2.06.94zm-11 1L8.5 8.5l.94-2.06 2.06-.94-2.06-.94L8.5 2.5l-.94 2.06-2.06.94zm10 10l.94 2.06.94-2.06 2.06-.94-2.06-.94-.94-2.06-.94 2.06-2.06.94z\"/><path d=\"M17.41 7.96l-1.37-1.37c-.4-.4-.92-.59-1.43-.59-.52 0-1.04.2-1.43.59L10.3 9.45l-7.72 7.72c-.78.78-.78 2.05 0 2.83L4 21.41c.39.39.9.59 1.41.59.51 0 1.02-.2 1.41-.59l7.78-7.78 2.81-2.81c.8-.78.8-2.07 0-2.86zM5.41 20L4 18.59l7.72-7.72 1.47 1.35L5.41 20z\"/>\n",
              "  </svg>\n",
              "      </button>\n",
              "      \n",
              "  <style>\n",
              "    .colab-df-container {\n",
              "      display:flex;\n",
              "      flex-wrap:wrap;\n",
              "      gap: 12px;\n",
              "    }\n",
              "\n",
              "    .colab-df-convert {\n",
              "      background-color: #E8F0FE;\n",
              "      border: none;\n",
              "      border-radius: 50%;\n",
              "      cursor: pointer;\n",
              "      display: none;\n",
              "      fill: #1967D2;\n",
              "      height: 32px;\n",
              "      padding: 0 0 0 0;\n",
              "      width: 32px;\n",
              "    }\n",
              "\n",
              "    .colab-df-convert:hover {\n",
              "      background-color: #E2EBFA;\n",
              "      box-shadow: 0px 1px 2px rgba(60, 64, 67, 0.3), 0px 1px 3px 1px rgba(60, 64, 67, 0.15);\n",
              "      fill: #174EA6;\n",
              "    }\n",
              "\n",
              "    [theme=dark] .colab-df-convert {\n",
              "      background-color: #3B4455;\n",
              "      fill: #D2E3FC;\n",
              "    }\n",
              "\n",
              "    [theme=dark] .colab-df-convert:hover {\n",
              "      background-color: #434B5C;\n",
              "      box-shadow: 0px 1px 3px 1px rgba(0, 0, 0, 0.15);\n",
              "      filter: drop-shadow(0px 1px 2px rgba(0, 0, 0, 0.3));\n",
              "      fill: #FFFFFF;\n",
              "    }\n",
              "  </style>\n",
              "\n",
              "      <script>\n",
              "        const buttonEl =\n",
              "          document.querySelector('#df-7c194d8d-65e5-4687-a98f-227cc78482e7 button.colab-df-convert');\n",
              "        buttonEl.style.display =\n",
              "          google.colab.kernel.accessAllowed ? 'block' : 'none';\n",
              "\n",
              "        async function convertToInteractive(key) {\n",
              "          const element = document.querySelector('#df-7c194d8d-65e5-4687-a98f-227cc78482e7');\n",
              "          const dataTable =\n",
              "            await google.colab.kernel.invokeFunction('convertToInteractive',\n",
              "                                                     [key], {});\n",
              "          if (!dataTable) return;\n",
              "\n",
              "          const docLinkHtml = 'Like what you see? Visit the ' +\n",
              "            '<a target=\"_blank\" href=https://colab.research.google.com/notebooks/data_table.ipynb>data table notebook</a>'\n",
              "            + ' to learn more about interactive tables.';\n",
              "          element.innerHTML = '';\n",
              "          dataTable['output_type'] = 'display_data';\n",
              "          await google.colab.output.renderOutput(dataTable, element);\n",
              "          const docLink = document.createElement('div');\n",
              "          docLink.innerHTML = docLinkHtml;\n",
              "          element.appendChild(docLink);\n",
              "        }\n",
              "      </script>\n",
              "    </div>\n",
              "  </div>\n",
              "  "
            ]
          },
          "metadata": {},
          "execution_count": 25
        }
      ],
      "source": [
        "import pandas as pd\n",
        "\n",
        "a = list(range(10)) + [10]*10\n",
        "b = [10]*10 + list(range(9,-1,-1))\n",
        "df = pd.DataFrame({\"Your DQN Agent\":a, \"Enemy Agent\":b})\n",
        "df[\"score\"]=round(df.iloc[:,0]/(df.iloc[:,0]+df.iloc[:,1]),2)\n",
        "df"
      ]
    },
    {
      "cell_type": "code",
      "execution_count": 26,
      "metadata": {
        "collapsed": true,
        "id": "tf1spaMKL8ui",
        "colab": {
          "base_uri": "https://localhost:8080/",
          "height": 527
        },
        "outputId": "82b56c83-c1e7-48f6-c128-a09d21a3a228"
      },
      "outputs": [
        {
          "output_type": "stream",
          "name": "stdout",
          "text": [
            "Complete\n"
          ]
        },
        {
          "output_type": "display_data",
          "data": {
            "text/plain": [
              "<Figure size 640x480 with 1 Axes>"
            ],
            "image/png": "[encoded data removed]"
          },
          "metadata": {}
        },
        {
          "output_type": "display_data",
          "data": {
            "text/plain": [
              "<Figure size 640x480 with 0 Axes>"
            ]
          },
          "metadata": {}
        },
        {
          "output_type": "display_data",
          "data": {
            "text/plain": [
              "<Figure size 640x480 with 0 Axes>"
            ]
          },
          "metadata": {}
        }
      ],
      "source": [
        "for i_episode in range(start_episode, num_episodes):\n",
        "    # Initialize the environment and get it's state\n",
        "    state, info = env.reset()\n",
        "    state = stack_states(None, state, True) # stacked before unsqueeze \n",
        "    state = torch.tensor(state, dtype=torch.float32, device=device).unsqueeze(0)\n",
        "    while True: \n",
        "        action = select_action(state)\n",
        "        observation, reward, terminated, truncated, score = env.step(action.item())\n",
        "\n",
        "        reward = torch.tensor([reward], device=device)\n",
        "        done = terminated or truncated\n",
        "\n",
        "        if device.type == \"cuda\": # Use this line if using GPU\n",
        "          observation = stack_states(state.squeeze().cpu().numpy(), observation, False) # stacked before unsqueeze\n",
        "        else:\n",
        "          observation = stack_states(state.squeeze().numpy(), observation, False) # stacked before unsqueeze\n",
        "        \n",
        "        if terminated:\n",
        "            next_state = None\n",
        "        else:\n",
        "            next_state = torch.tensor(observation, dtype=torch.float32, device=device).unsqueeze(0)\n",
        "\n",
        "        # Store the transition in memory\n",
        "        memory.push(state, action, next_state, reward)\n",
        "\n",
        "        # Move to the next state\n",
        "        state = next_state\n",
        "\n",
        "        # Perform one step of the optimization (on the policy network)\n",
        "        optimize_model()\n",
        "\n",
        "        # Soft update of the target network's weights\n",
        "        # θ′ ← τ θ + (1 −τ )θ′\n",
        "        target_net_state_dict = target_net.state_dict()\n",
        "        policy_net_state_dict = policy_net.state_dict()\n",
        "        for key in policy_net_state_dict:\n",
        "            target_net_state_dict[key] = policy_net_state_dict[key]*TAU + target_net_state_dict[key]*(1-TAU)\n",
        "        target_net.load_state_dict(target_net_state_dict)\n",
        "\n",
        "        if done:\n",
        "            episode_scores.append(score[0]/sum(score)) # win if larger than 0.5. lose otherwise. \n",
        "            plot_scores()\n",
        "            break\n",
        "\n",
        "        \"\"\"\"check point code\n",
        "        save check point every freq episodes\n",
        "        save policy net, target net, optimizer, episode number to google drive.\n",
        "        \"\"\"\n",
        "        if not i_episode%freq:\n",
        "            optimizer_state_dict = optimizer.state_dict()\n",
        "            save_checkpoint(policy_net_state_dict, target_net_state_dict, optimizer_state_dict, \n",
        "                            i_episode+1, steps_done, episode_scores)\n",
        "\n",
        "print('Complete')\n",
        "plot_scores(show_result=True)\n",
        "plt.ioff()\n",
        "plt.show()"
      ]
    },
    {
      "cell_type": "markdown",
      "metadata": {
        "id": "jEeWoigbPe-O"
      },
      "source": [
        "## Save and load model after completing training.\n",
        "\n",
        "Do not forget to save your model to your own goodle drive if you get a good model. Otherwise, you need to train your network again to get it. \n",
        "\n"
      ]
    },
    {
      "cell_type": "markdown",
      "metadata": {
        "id": "6EKVW3OolODK"
      },
      "source": [
        "### Save mode\n",
        "\n",
        "Change the last filename in the path to save it. "
      ]
    },
    {
      "cell_type": "code",
      "execution_count": 27,
      "metadata": {
        "id": "S9CaH1mjPeV6"
      },
      "outputs": [],
      "source": [
        "torch.save(policy_net, '/content/drive/My Drive/CMPT 301/Final Models/'+model_name+'_76.pth')"
      ]
    },
    {
      "cell_type": "markdown",
      "metadata": {
        "id": "dajhkPy1lbdx"
      },
      "source": [
        "### Load mode\n",
        "\n",
        "Load your mode without training the network. You need to make sure that the structure of the network you defined earlier in this notebook must match the model you are loading here. \n",
        "\n",
        "If the model was trained in GPU while the running time is CPU now, you need to add `map_location=torch.device('cpu')` in `torch.load` to change the device. "
      ]
    },
    {
      "cell_type": "code",
      "execution_count": 29,
      "metadata": {
        "id": "5NSM4Xw8ZMXk"
      },
      "outputs": [],
      "source": [
        "policy_net = torch.load('/content/drive/My Drive/CMPT 301/Final Models/'+model_name+'_76.pth')\n",
        "\n",
        "# train i GPU, load on CPU\n",
        "# policy_net = torch.load('/content/drive/My Drive/Colab Notebooks/CMPT301-AI/Pong/Models/model.pth', map_location=torch.device('cpu'))"
      ]
    },
    {
      "cell_type": "markdown",
      "metadata": {
        "id": "JDxxZ-TtmI3Q"
      },
      "source": [
        "## Testing"
      ]
    },
    {
      "cell_type": "markdown",
      "metadata": {
        "id": "iRFYe-TcmCRX"
      },
      "source": [
        "### Testing through statistics\n",
        "\n",
        "Run your agent 100 times of episodes. \n",
        "\n",
        "An episode is considered a solution if it scores at least 50%.\n",
        "\n",
        "Calculate the average rewards and the percetage of solutions. "
      ]
    },
    {
      "cell_type": "code",
      "execution_count": 30,
      "metadata": {
        "id": "Ie-KtYJ-Ys3c"
      },
      "outputs": [],
      "source": [
        "def select_action_testing(state):\n",
        "    with torch.no_grad():\n",
        "        return policy_net(state).max(1)[1].view(1, 1)"
      ]
    },
    {
      "cell_type": "code",
      "execution_count": 31,
      "metadata": {
        "id": "GPYMT6iBcL0Y",
        "colab": {
          "base_uri": "https://localhost:8080/"
        },
        "outputId": "5e170f0d-251b-4a4b-e51d-ba0347212cb9"
      },
      "outputs": [
        {
          "output_type": "stream",
          "name": "stdout",
          "text": [
            "0 /100 completed.\n",
            "10 /100 completed.\n",
            "20 /100 completed.\n",
            "30 /100 completed.\n",
            "40 /100 completed.\n",
            "50 /100 completed.\n",
            "60 /100 completed.\n",
            "70 /100 completed.\n",
            "80 /100 completed.\n",
            "90 /100 completed.\n"
          ]
        }
      ],
      "source": [
        "scores_list = []\n",
        "\n",
        "for i in range(100):\n",
        "    \n",
        "    env = Pong()  \n",
        "    obs, info = env.reset()\n",
        "    obs_stack = stack_states(None, obs, True) # stacked before unsqueeze \n",
        "    while True:\n",
        "        obs_stack = torch.tensor(obs_stack, dtype=torch.float32, device=device).unsqueeze(0)\n",
        "        action = select_action_testing(obs_stack)\n",
        "        obs, reward, terminated, truncated, score = env.step(action.item())\n",
        "        \n",
        "        if device.type == \"cuda\": # Use this line if using GPU\n",
        "          obs_stack = stack_states(obs_stack.squeeze().cpu().numpy(), obs, False) # stacked before unsqueeze\n",
        "        else:\n",
        "          obs_stack = stack_states(obs_stack.squeeze().numpy(), obs, False) # stacked before unsqueeze\n",
        "\n",
        "        if terminated or truncated:\n",
        "            break\n",
        "    if not i%10:\n",
        "        print(i, \"/100 completed.\")\n",
        "\n",
        "    scores_list.append(score.copy())\n",
        "\n",
        "scores_list = np.array(scores_list)"
      ]
    },
    {
      "cell_type": "markdown",
      "metadata": {
        "id": "FvnNTKs2tILt"
      },
      "source": [
        "**Goal 1**\n",
        "\n",
        "This is the average of scores of your agent in 100 games. Score 10 means your agent wins one game. Score x (x<10) means your agent loses one game with x:10.\n",
        "\n",
        "Your goal is to improve the average_score towards a perfect value 10."
      ]
    },
    {
      "cell_type": "code",
      "execution_count": 32,
      "metadata": {
        "id": "yJ-YvAeUeQfb",
        "colab": {
          "base_uri": "https://localhost:8080/"
        },
        "outputId": "65a8f143-35e7-4863-9f4d-89b58a07e196"
      },
      "outputs": [
        {
          "output_type": "execute_result",
          "data": {
            "text/plain": [
              "9.69"
            ]
          },
          "metadata": {},
          "execution_count": 32
        }
      ],
      "source": [
        "average_score = np.mean(scores_list[:,0])\n",
        "average_score"
      ]
    },
    {
      "cell_type": "markdown",
      "metadata": {
        "id": "g6Es0Bn0SHel"
      },
      "source": [
        "**Goal 2**\n",
        "\n",
        "This is the average of scores of your agent divided by the total scores of both agents in 100 games. For example, 1 means your agent wins one game with 10:0. \n",
        "\n",
        "Your goal is to improve the average_score towards a perfect value 1."
      ]
    },
    {
      "cell_type": "code",
      "execution_count": 33,
      "metadata": {
        "id": "04oVQ1sFPY11",
        "colab": {
          "base_uri": "https://localhost:8080/"
        },
        "outputId": "15247040-1f13-47ff-f01e-f5a28a742a8b"
      },
      "outputs": [
        {
          "output_type": "execute_result",
          "data": {
            "text/plain": [
              "0.6559742768411497"
            ]
          },
          "metadata": {},
          "execution_count": 33
        }
      ],
      "source": [
        "average_score_total = np.mean(scores_list[:,0]/np.sum(scores_list, 1))\n",
        "average_score_total"
      ]
    },
    {
      "cell_type": "markdown",
      "metadata": {
        "id": "GWKCqqvEteiY"
      },
      "source": [
        "**Goal 3**\n",
        "\n",
        "This is the percentage that your agent wins the game in 100 games.\n",
        "\n",
        "Your goal is to improve the percentage towards a perfect value 1."
      ]
    },
    {
      "cell_type": "code",
      "execution_count": 34,
      "metadata": {
        "id": "IejX9TvygWRe",
        "colab": {
          "base_uri": "https://localhost:8080/"
        },
        "outputId": "81cac67c-b926-4c40-ca39-60ffd5db6b2f"
      },
      "outputs": [
        {
          "output_type": "execute_result",
          "data": {
            "text/plain": [
              "0.89"
            ]
          },
          "metadata": {},
          "execution_count": 34
        }
      ],
      "source": [
        "# percentage of winning episodes \n",
        "percentage = np.sum(scores_list[:,0]==10)/100\n",
        "percentage"
      ]
    },
    {
      "cell_type": "code",
      "execution_count": 35,
      "metadata": {
        "id": "QAs52nV_f95Y",
        "colab": {
          "base_uri": "https://localhost:8080/",
          "height": 449
        },
        "outputId": "8e975420-0f0d-498b-8788-6b7cbea6e5e0"
      },
      "outputs": [
        {
          "output_type": "display_data",
          "data": {
            "text/plain": [
              "<Figure size 640x480 with 1 Axes>"
            ],
            "image/png": "[encoded data removed]"
          },
          "metadata": {}
        }
      ],
      "source": [
        "# bar plot of rewards \n",
        "scores_list_count = list(range(11))\n",
        "for score in scores_list[:,0]:\n",
        "  scores_list_count[score] += 1\n",
        "\n",
        "plt.bar(range(11),scores_list_count)\n",
        "plt.xlabel(\"Scores\")\n",
        "plt.ylabel(\"Counts\")\n",
        "plt.xticks(range(11))\n",
        "plt.show()"
      ]
    },
    {
      "cell_type": "markdown",
      "metadata": {
        "id": "YpSeXvs0Q7qq"
      },
      "source": [
        "### Testing through animation\n",
        "\n",
        "Since we cannot run pygame on colab. You need to follow steps below to run the game visually on your local machine.\n",
        "\n",
        "1. Train your DQN model.\n",
        "2. Save your model.\n",
        "3. Download your model to the local folder of your project.\n",
        "4. Install [pytorch](https://pytorch.org/get-started/locally/#mac-installation) on your local machine. \n",
        "5. Copy the struture of your DQN to PongAIvAI_DQN.py \n",
        "6. Load your model to PongAIvAI_DQN.py. You may need to change the name of your model in PongAIvAI_DQN.py. \n",
        "7. Change the state and other necessary code in PongAIvAI_DQN.py if needed.\n",
        "8. Run `python PongAIvAI_DQN.py`. \n",
        "9. Your DQN agent plays on the **left** side only. The game plays 10 rounds. "
      ]
    },
    {
      "cell_type": "markdown",
      "metadata": {
        "id": "z_QkYtyvHrPg"
      },
      "source": [
        "# What to Submit\n",
        "\n",
        "- PongAIvAI_PlayInBackground_DQN_v3.py\n",
        "- PongAIvAI_DQN_v3.py\n",
        "- Pong_DQN_v3.ipynb\n",
        "- Your best trained DQN model.pth\n",
        "- Answer questions below to report the testing results:"
      ]
    },
    {
      "cell_type": "markdown",
      "metadata": {
        "id": "vQvEAG5PIPIo"
      },
      "source": [
        "Q1. What is your best restult in Goal 1? 9.69"
      ]
    },
    {
      "cell_type": "markdown",
      "source": [
        "Q2. What is your best restuls in Goal 2? 0.6559742768411497"
      ],
      "metadata": {
        "id": "kqGIohNMbZg9"
      }
    },
    {
      "cell_type": "markdown",
      "source": [
        "Q3. What is your best restuls in Goal 3? 0.89"
      ],
      "metadata": {
        "id": "D04aauDDbZnH"
      }
    }
  ],
  "metadata": {
    "colab": {
      "provenance": []
    },
    "gpuClass": "standard",
    "kernelspec": {
      "display_name": "Python 3",
      "language": "python",
      "name": "python3"
    },
    "language_info": {
      "codemirror_mode": {
        "name": "ipython",
        "version": 3
      },
      "file_extension": ".py",
      "mimetype": "text/x-python",
      "name": "python",
      "nbconvert_exporter": "python",
      "pygments_lexer": "ipython3",
      "version": "3.10.9"
    },
    "accelerator": "GPU"
  },
  "nbformat": 4,
  "nbformat_minor": 0
}